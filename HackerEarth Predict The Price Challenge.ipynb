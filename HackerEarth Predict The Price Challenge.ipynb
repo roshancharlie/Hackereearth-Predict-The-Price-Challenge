{
 "cells": [
  {
   "cell_type": "code",
   "execution_count": 37,
   "id": "ef005b82",
   "metadata": {},
   "outputs": [],
   "source": [
    "import pandas as pd\n",
    "import numpy as np\n",
    "import matplotlib.pyplot as plt\n",
    "import seaborn as sns\n",
    "import datetime\n",
    "import warnings\n",
    "warnings.filterwarnings('ignore')"
   ]
  },
  {
   "cell_type": "code",
   "execution_count": 38,
   "id": "c808a29a",
   "metadata": {},
   "outputs": [],
   "source": [
    "train = pd.read_csv('dataset/train.csv')\n",
    "test = pd.read_csv('dataset/test.csv')"
   ]
  },
  {
   "cell_type": "code",
   "execution_count": 39,
   "id": "3022178e",
   "metadata": {},
   "outputs": [
    {
     "name": "stdout",
     "output_type": "stream",
     "text": [
      "Train data shape: (6368, 15)\n",
      "Test data shape: (3430, 14)\n"
     ]
    }
   ],
   "source": [
    "print(\"Train data shape:\", train.shape)\n",
    "print(\"Test data shape:\", test.shape)"
   ]
  },
  {
   "cell_type": "code",
   "execution_count": 40,
   "id": "ac3a47b6",
   "metadata": {},
   "outputs": [
    {
     "data": {
      "text/plain": [
       "Product_id           object\n",
       "Stall_no            float64\n",
       "instock_date         object\n",
       "Market_Category       int64\n",
       "Customer_name        object\n",
       "Loyalty_customer     object\n",
       "Product_Category     object\n",
       "Grade                 int64\n",
       "Demand                int64\n",
       "Discount_avail      float64\n",
       "charges_1           float64\n",
       "charges_2 (%)       float64\n",
       "Minimum_price       float64\n",
       "Maximum_price       float64\n",
       "Selling_Price       float64\n",
       "dtype: object"
      ]
     },
     "execution_count": 40,
     "metadata": {},
     "output_type": "execute_result"
    }
   ],
   "source": [
    "train.dtypes"
   ]
  },
  {
   "cell_type": "code",
   "execution_count": 41,
   "id": "4c0bf0f6",
   "metadata": {},
   "outputs": [
    {
     "data": {
      "text/plain": [
       "'2015-08-22 18:36:12.000'"
      ]
     },
     "execution_count": 41,
     "metadata": {},
     "output_type": "execute_result"
    }
   ],
   "source": [
    "train['instock_date'][0]"
   ]
  },
  {
   "cell_type": "code",
   "execution_count": 42,
   "id": "0430bc01",
   "metadata": {},
   "outputs": [],
   "source": [
    "train['instock_date']= pd.to_datetime(train['instock_date'])\n",
    "train['year'] = train['instock_date'].dt.year\n",
    "train['month'] =  train['instock_date'].dt.month\n",
    "train['quarter'] = train['instock_date'].dt.quarter\n",
    "train['day of the week'] = train['instock_date'].dt.dayofweek\n",
    "train['Dayofyear'] = train['instock_date'].dt.dayofyear\n",
    "train[\"hour\"] = train['instock_date'].dt.hour"
   ]
  },
  {
   "cell_type": "code",
   "execution_count": 43,
   "id": "cfd06aaa",
   "metadata": {},
   "outputs": [],
   "source": [
    "test['instock_date']= pd.to_datetime(test['instock_date'])\n",
    "test['year'] = test['instock_date'].dt.year\n",
    "test['month'] =  test['instock_date'].dt.month\n",
    "test['quarter'] = test['instock_date'].dt.quarter\n",
    "test['day of the week'] = test['instock_date'].dt.dayofweek\n",
    "test['Dayofyear'] = test['instock_date'].dt.dayofyear\n",
    "test[\"hour\"] = test['instock_date'].dt.hour"
   ]
  },
  {
   "cell_type": "code",
   "execution_count": 44,
   "id": "7b93f9ed",
   "metadata": {
    "scrolled": false
   },
   "outputs": [
    {
     "data": {
      "text/plain": [
       "Product_id            0\n",
       "Stall_no              5\n",
       "instock_date          0\n",
       "Market_Category       0\n",
       "Customer_name       211\n",
       "Loyalty_customer      0\n",
       "Product_Category      0\n",
       "Grade                 0\n",
       "Demand                0\n",
       "Discount_avail       38\n",
       "charges_1           198\n",
       "charges_2 (%)       205\n",
       "Minimum_price        38\n",
       "Maximum_price       343\n",
       "Selling_Price        41\n",
       "year                  0\n",
       "month                 0\n",
       "quarter               0\n",
       "day of the week       0\n",
       "Dayofyear             0\n",
       "hour                  0\n",
       "dtype: int64"
      ]
     },
     "execution_count": 44,
     "metadata": {},
     "output_type": "execute_result"
    }
   ],
   "source": [
    "train.isnull().sum()"
   ]
  },
  {
   "cell_type": "code",
   "execution_count": 45,
   "id": "a39283ef",
   "metadata": {},
   "outputs": [],
   "source": [
    "train = train.dropna(subset=['Selling_Price'])"
   ]
  },
  {
   "cell_type": "code",
   "execution_count": 46,
   "id": "ac90c737",
   "metadata": {},
   "outputs": [],
   "source": [
    "train['Customer_name'].fillna('Unknown',inplace=True)\n",
    "test['Customer_name'].fillna('Unknown',inplace=True)"
   ]
  },
  {
   "cell_type": "code",
   "execution_count": 47,
   "id": "6e4247d3",
   "metadata": {},
   "outputs": [],
   "source": [
    "train['Discount_avail'] = train['Discount_avail'].fillna(train['Discount_avail'].mean())\n",
    "train['charges_1'] = train['charges_1'].fillna(train['charges_1'].mean())\n",
    "train['charges_2 (%)'] = train['charges_2 (%)'].fillna(train['charges_2 (%)'].mean())\n",
    "train['Minimum_price'] = train['Minimum_price'].fillna(train['Minimum_price'].mean())\n",
    "train['Maximum_price'] = train['Maximum_price'].fillna(train['Maximum_price'].mean())\n",
    "train['Stall_no'] = train['Stall_no'].fillna(train['Stall_no'].median())"
   ]
  },
  {
   "cell_type": "code",
   "execution_count": 48,
   "id": "4628282a",
   "metadata": {},
   "outputs": [
    {
     "data": {
      "text/plain": [
       "False    6327\n",
       "dtype: int64"
      ]
     },
     "execution_count": 48,
     "metadata": {},
     "output_type": "execute_result"
    }
   ],
   "source": [
    "train.duplicated().value_counts()"
   ]
  },
  {
   "cell_type": "code",
   "execution_count": 49,
   "id": "0afb9033",
   "metadata": {},
   "outputs": [
    {
     "data": {
      "text/plain": [
       "Product_id          0\n",
       "Stall_no            0\n",
       "instock_date        0\n",
       "Market_Category     0\n",
       "Customer_name       0\n",
       "Loyalty_customer    0\n",
       "Product_Category    0\n",
       "Grade               0\n",
       "Demand              0\n",
       "Discount_avail      0\n",
       "charges_1           0\n",
       "charges_2 (%)       0\n",
       "Minimum_price       0\n",
       "Maximum_price       0\n",
       "Selling_Price       0\n",
       "year                0\n",
       "month               0\n",
       "quarter             0\n",
       "day of the week     0\n",
       "Dayofyear           0\n",
       "hour                0\n",
       "dtype: int64"
      ]
     },
     "execution_count": 49,
     "metadata": {},
     "output_type": "execute_result"
    }
   ],
   "source": [
    "train.isnull().sum()"
   ]
  },
  {
   "cell_type": "code",
   "execution_count": 50,
   "id": "8c47ba32",
   "metadata": {},
   "outputs": [
    {
     "data": {
      "text/plain": [
       "Product_id           0\n",
       "Stall_no             1\n",
       "instock_date         0\n",
       "Market_Category      0\n",
       "Customer_name        0\n",
       "Loyalty_customer     0\n",
       "Product_Category     0\n",
       "Grade                0\n",
       "Demand               0\n",
       "Discount_avail       0\n",
       "charges_1           36\n",
       "charges_2 (%)        5\n",
       "Minimum_price       14\n",
       "Maximum_price        0\n",
       "year                 0\n",
       "month                0\n",
       "quarter              0\n",
       "day of the week      0\n",
       "Dayofyear            0\n",
       "hour                 0\n",
       "dtype: int64"
      ]
     },
     "execution_count": 50,
     "metadata": {},
     "output_type": "execute_result"
    }
   ],
   "source": [
    "test.isnull().sum()"
   ]
  },
  {
   "cell_type": "code",
   "execution_count": 51,
   "id": "fcf1a6f4",
   "metadata": {},
   "outputs": [],
   "source": [
    "test['charges_1'] = test['charges_1'].fillna(test['charges_1'].mean())\n",
    "test['charges_2 (%)'] = test['charges_2 (%)'].fillna(test['charges_2 (%)'].mean())\n",
    "test['Minimum_price'] = test['Minimum_price'].fillna(test['Minimum_price'].mean())\n",
    "test['Maximum_price'] = test['Maximum_price'].fillna(test['Maximum_price'].mean())\n",
    "test['Stall_no'] = test['Stall_no'].fillna(test['Stall_no'].median())"
   ]
  },
  {
   "cell_type": "code",
   "execution_count": 52,
   "id": "e1f80101",
   "metadata": {},
   "outputs": [
    {
     "data": {
      "text/plain": [
       "Product_id                  object\n",
       "Stall_no                   float64\n",
       "instock_date        datetime64[ns]\n",
       "Market_Category              int64\n",
       "Customer_name               object\n",
       "Loyalty_customer            object\n",
       "Product_Category            object\n",
       "Grade                        int64\n",
       "Demand                       int64\n",
       "Discount_avail             float64\n",
       "charges_1                  float64\n",
       "charges_2 (%)              float64\n",
       "Minimum_price              float64\n",
       "Maximum_price              float64\n",
       "Selling_Price              float64\n",
       "year                         int64\n",
       "month                        int64\n",
       "quarter                      int64\n",
       "day of the week              int64\n",
       "Dayofyear                    int64\n",
       "hour                         int64\n",
       "dtype: object"
      ]
     },
     "execution_count": 52,
     "metadata": {},
     "output_type": "execute_result"
    }
   ],
   "source": [
    "train.dtypes"
   ]
  },
  {
   "cell_type": "code",
   "execution_count": 53,
   "id": "9e90a151",
   "metadata": {},
   "outputs": [],
   "source": [
    "train['Loyalty_customer'] = train['Loyalty_customer'].replace({'Yes':1,'No ':0})\n",
    "train['Product_Category'] = train['Product_Category'].astype('category')\n",
    "train['Product_Category'] = train['Product_Category'].cat.codes"
   ]
  },
  {
   "cell_type": "code",
   "execution_count": 54,
   "id": "58fd8451",
   "metadata": {},
   "outputs": [],
   "source": [
    "train = train.drop(['instock_date','Customer_name','Product_id'],axis=1)"
   ]
  },
  {
   "cell_type": "code",
   "execution_count": 55,
   "id": "26854179",
   "metadata": {},
   "outputs": [
    {
     "data": {
      "text/html": [
       "<div>\n",
       "<style scoped>\n",
       "    .dataframe tbody tr th:only-of-type {\n",
       "        vertical-align: middle;\n",
       "    }\n",
       "\n",
       "    .dataframe tbody tr th {\n",
       "        vertical-align: top;\n",
       "    }\n",
       "\n",
       "    .dataframe thead th {\n",
       "        text-align: right;\n",
       "    }\n",
       "</style>\n",
       "<table border=\"1\" class=\"dataframe\">\n",
       "  <thead>\n",
       "    <tr style=\"text-align: right;\">\n",
       "      <th></th>\n",
       "      <th>Stall_no</th>\n",
       "      <th>Market_Category</th>\n",
       "      <th>Loyalty_customer</th>\n",
       "      <th>Product_Category</th>\n",
       "      <th>Grade</th>\n",
       "      <th>Demand</th>\n",
       "      <th>Discount_avail</th>\n",
       "      <th>charges_1</th>\n",
       "      <th>charges_2 (%)</th>\n",
       "      <th>Minimum_price</th>\n",
       "      <th>Maximum_price</th>\n",
       "      <th>Selling_Price</th>\n",
       "      <th>year</th>\n",
       "      <th>month</th>\n",
       "      <th>quarter</th>\n",
       "      <th>day of the week</th>\n",
       "      <th>Dayofyear</th>\n",
       "      <th>hour</th>\n",
       "    </tr>\n",
       "  </thead>\n",
       "  <tbody>\n",
       "    <tr>\n",
       "      <th>0</th>\n",
       "      <td>37.0</td>\n",
       "      <td>2</td>\n",
       "      <td>1</td>\n",
       "      <td>3</td>\n",
       "      <td>1</td>\n",
       "      <td>68</td>\n",
       "      <td>0.0</td>\n",
       "      <td>376.0</td>\n",
       "      <td>11.0</td>\n",
       "      <td>2983.0</td>\n",
       "      <td>4713.0</td>\n",
       "      <td>4185.947700</td>\n",
       "      <td>2015</td>\n",
       "      <td>8</td>\n",
       "      <td>3</td>\n",
       "      <td>5</td>\n",
       "      <td>234</td>\n",
       "      <td>18</td>\n",
       "    </tr>\n",
       "    <tr>\n",
       "      <th>1</th>\n",
       "      <td>38.0</td>\n",
       "      <td>24</td>\n",
       "      <td>1</td>\n",
       "      <td>3</td>\n",
       "      <td>0</td>\n",
       "      <td>51</td>\n",
       "      <td>0.0</td>\n",
       "      <td>397.0</td>\n",
       "      <td>12.0</td>\n",
       "      <td>7495.0</td>\n",
       "      <td>10352.0</td>\n",
       "      <td>9271.490256</td>\n",
       "      <td>2016</td>\n",
       "      <td>3</td>\n",
       "      <td>1</td>\n",
       "      <td>6</td>\n",
       "      <td>87</td>\n",
       "      <td>21</td>\n",
       "    </tr>\n",
       "    <tr>\n",
       "      <th>2</th>\n",
       "      <td>9.0</td>\n",
       "      <td>447</td>\n",
       "      <td>1</td>\n",
       "      <td>0</td>\n",
       "      <td>0</td>\n",
       "      <td>10</td>\n",
       "      <td>0.0</td>\n",
       "      <td>250.0</td>\n",
       "      <td>9.0</td>\n",
       "      <td>5752.0</td>\n",
       "      <td>7309.0</td>\n",
       "      <td>6785.701362</td>\n",
       "      <td>2015</td>\n",
       "      <td>8</td>\n",
       "      <td>3</td>\n",
       "      <td>1</td>\n",
       "      <td>230</td>\n",
       "      <td>19</td>\n",
       "    </tr>\n",
       "    <tr>\n",
       "      <th>3</th>\n",
       "      <td>50.0</td>\n",
       "      <td>23</td>\n",
       "      <td>1</td>\n",
       "      <td>2</td>\n",
       "      <td>2</td>\n",
       "      <td>48</td>\n",
       "      <td>0.0</td>\n",
       "      <td>144.0</td>\n",
       "      <td>13.0</td>\n",
       "      <td>5090.0</td>\n",
       "      <td>20814.0</td>\n",
       "      <td>13028.917824</td>\n",
       "      <td>2016</td>\n",
       "      <td>3</td>\n",
       "      <td>1</td>\n",
       "      <td>0</td>\n",
       "      <td>88</td>\n",
       "      <td>21</td>\n",
       "    </tr>\n",
       "    <tr>\n",
       "      <th>4</th>\n",
       "      <td>7.0</td>\n",
       "      <td>63</td>\n",
       "      <td>1</td>\n",
       "      <td>8</td>\n",
       "      <td>1</td>\n",
       "      <td>35</td>\n",
       "      <td>1.0</td>\n",
       "      <td>211.0</td>\n",
       "      <td>4.0</td>\n",
       "      <td>2430.0</td>\n",
       "      <td>9261.0</td>\n",
       "      <td>906.553935</td>\n",
       "      <td>2016</td>\n",
       "      <td>3</td>\n",
       "      <td>1</td>\n",
       "      <td>1</td>\n",
       "      <td>89</td>\n",
       "      <td>22</td>\n",
       "    </tr>\n",
       "    <tr>\n",
       "      <th>...</th>\n",
       "      <td>...</td>\n",
       "      <td>...</td>\n",
       "      <td>...</td>\n",
       "      <td>...</td>\n",
       "      <td>...</td>\n",
       "      <td>...</td>\n",
       "      <td>...</td>\n",
       "      <td>...</td>\n",
       "      <td>...</td>\n",
       "      <td>...</td>\n",
       "      <td>...</td>\n",
       "      <td>...</td>\n",
       "      <td>...</td>\n",
       "      <td>...</td>\n",
       "      <td>...</td>\n",
       "      <td>...</td>\n",
       "      <td>...</td>\n",
       "      <td>...</td>\n",
       "    </tr>\n",
       "    <tr>\n",
       "      <th>6363</th>\n",
       "      <td>17.0</td>\n",
       "      <td>24</td>\n",
       "      <td>1</td>\n",
       "      <td>9</td>\n",
       "      <td>0</td>\n",
       "      <td>47</td>\n",
       "      <td>0.0</td>\n",
       "      <td>614.0</td>\n",
       "      <td>10.0</td>\n",
       "      <td>8174.0</td>\n",
       "      <td>11266.0</td>\n",
       "      <td>10277.520192</td>\n",
       "      <td>2016</td>\n",
       "      <td>3</td>\n",
       "      <td>1</td>\n",
       "      <td>0</td>\n",
       "      <td>88</td>\n",
       "      <td>19</td>\n",
       "    </tr>\n",
       "    <tr>\n",
       "      <th>6364</th>\n",
       "      <td>21.0</td>\n",
       "      <td>55</td>\n",
       "      <td>1</td>\n",
       "      <td>0</td>\n",
       "      <td>0</td>\n",
       "      <td>35</td>\n",
       "      <td>0.0</td>\n",
       "      <td>269.0</td>\n",
       "      <td>5.0</td>\n",
       "      <td>3564.0</td>\n",
       "      <td>4920.0</td>\n",
       "      <td>4501.837200</td>\n",
       "      <td>2015</td>\n",
       "      <td>2</td>\n",
       "      <td>1</td>\n",
       "      <td>2</td>\n",
       "      <td>42</td>\n",
       "      <td>15</td>\n",
       "    </tr>\n",
       "    <tr>\n",
       "      <th>6365</th>\n",
       "      <td>36.0</td>\n",
       "      <td>358</td>\n",
       "      <td>0</td>\n",
       "      <td>8</td>\n",
       "      <td>3</td>\n",
       "      <td>29</td>\n",
       "      <td>0.0</td>\n",
       "      <td>283.0</td>\n",
       "      <td>3.0</td>\n",
       "      <td>5303.0</td>\n",
       "      <td>14614.0</td>\n",
       "      <td>10218.878775</td>\n",
       "      <td>2015</td>\n",
       "      <td>11</td>\n",
       "      <td>4</td>\n",
       "      <td>3</td>\n",
       "      <td>323</td>\n",
       "      <td>17</td>\n",
       "    </tr>\n",
       "    <tr>\n",
       "      <th>6366</th>\n",
       "      <td>27.0</td>\n",
       "      <td>452</td>\n",
       "      <td>1</td>\n",
       "      <td>8</td>\n",
       "      <td>0</td>\n",
       "      <td>8</td>\n",
       "      <td>0.0</td>\n",
       "      <td>267.0</td>\n",
       "      <td>3.0</td>\n",
       "      <td>4334.0</td>\n",
       "      <td>5849.0</td>\n",
       "      <td>5359.493997</td>\n",
       "      <td>2015</td>\n",
       "      <td>12</td>\n",
       "      <td>4</td>\n",
       "      <td>1</td>\n",
       "      <td>342</td>\n",
       "      <td>4</td>\n",
       "    </tr>\n",
       "    <tr>\n",
       "      <th>6367</th>\n",
       "      <td>11.0</td>\n",
       "      <td>58</td>\n",
       "      <td>1</td>\n",
       "      <td>9</td>\n",
       "      <td>0</td>\n",
       "      <td>94</td>\n",
       "      <td>0.0</td>\n",
       "      <td>614.0</td>\n",
       "      <td>7.0</td>\n",
       "      <td>3975.0</td>\n",
       "      <td>5383.0</td>\n",
       "      <td>5220.013568</td>\n",
       "      <td>2016</td>\n",
       "      <td>1</td>\n",
       "      <td>1</td>\n",
       "      <td>2</td>\n",
       "      <td>20</td>\n",
       "      <td>19</td>\n",
       "    </tr>\n",
       "  </tbody>\n",
       "</table>\n",
       "<p>6327 rows × 18 columns</p>\n",
       "</div>"
      ],
      "text/plain": [
       "      Stall_no  Market_Category  Loyalty_customer  Product_Category  Grade  \\\n",
       "0         37.0                2                 1                 3      1   \n",
       "1         38.0               24                 1                 3      0   \n",
       "2          9.0              447                 1                 0      0   \n",
       "3         50.0               23                 1                 2      2   \n",
       "4          7.0               63                 1                 8      1   \n",
       "...        ...              ...               ...               ...    ...   \n",
       "6363      17.0               24                 1                 9      0   \n",
       "6364      21.0               55                 1                 0      0   \n",
       "6365      36.0              358                 0                 8      3   \n",
       "6366      27.0              452                 1                 8      0   \n",
       "6367      11.0               58                 1                 9      0   \n",
       "\n",
       "      Demand  Discount_avail  charges_1  charges_2 (%)  Minimum_price  \\\n",
       "0         68             0.0      376.0           11.0         2983.0   \n",
       "1         51             0.0      397.0           12.0         7495.0   \n",
       "2         10             0.0      250.0            9.0         5752.0   \n",
       "3         48             0.0      144.0           13.0         5090.0   \n",
       "4         35             1.0      211.0            4.0         2430.0   \n",
       "...      ...             ...        ...            ...            ...   \n",
       "6363      47             0.0      614.0           10.0         8174.0   \n",
       "6364      35             0.0      269.0            5.0         3564.0   \n",
       "6365      29             0.0      283.0            3.0         5303.0   \n",
       "6366       8             0.0      267.0            3.0         4334.0   \n",
       "6367      94             0.0      614.0            7.0         3975.0   \n",
       "\n",
       "      Maximum_price  Selling_Price  year  month  quarter  day of the week  \\\n",
       "0            4713.0    4185.947700  2015      8        3                5   \n",
       "1           10352.0    9271.490256  2016      3        1                6   \n",
       "2            7309.0    6785.701362  2015      8        3                1   \n",
       "3           20814.0   13028.917824  2016      3        1                0   \n",
       "4            9261.0     906.553935  2016      3        1                1   \n",
       "...             ...            ...   ...    ...      ...              ...   \n",
       "6363        11266.0   10277.520192  2016      3        1                0   \n",
       "6364         4920.0    4501.837200  2015      2        1                2   \n",
       "6365        14614.0   10218.878775  2015     11        4                3   \n",
       "6366         5849.0    5359.493997  2015     12        4                1   \n",
       "6367         5383.0    5220.013568  2016      1        1                2   \n",
       "\n",
       "      Dayofyear  hour  \n",
       "0           234    18  \n",
       "1            87    21  \n",
       "2           230    19  \n",
       "3            88    21  \n",
       "4            89    22  \n",
       "...         ...   ...  \n",
       "6363         88    19  \n",
       "6364         42    15  \n",
       "6365        323    17  \n",
       "6366        342     4  \n",
       "6367         20    19  \n",
       "\n",
       "[6327 rows x 18 columns]"
      ]
     },
     "execution_count": 55,
     "metadata": {},
     "output_type": "execute_result"
    }
   ],
   "source": [
    "train"
   ]
  },
  {
   "cell_type": "code",
   "execution_count": 56,
   "id": "a87581ba",
   "metadata": {},
   "outputs": [],
   "source": [
    "test['Loyalty_customer'] = test['Loyalty_customer'].replace({'Yes':1,'No ':0})\n",
    "test['Product_Category'] = test['Product_Category'].astype('category')\n",
    "test['Product_Category'] = test['Product_Category'].cat.codes"
   ]
  },
  {
   "cell_type": "code",
   "execution_count": 57,
   "id": "b5edddf2",
   "metadata": {},
   "outputs": [
    {
     "name": "stdout",
     "output_type": "stream",
     "text": [
      "<class 'pandas.core.frame.DataFrame'>\n",
      "Int64Index: 6327 entries, 0 to 6367\n",
      "Data columns (total 18 columns):\n",
      " #   Column            Non-Null Count  Dtype  \n",
      "---  ------            --------------  -----  \n",
      " 0   Stall_no          6327 non-null   float64\n",
      " 1   Market_Category   6327 non-null   int64  \n",
      " 2   Loyalty_customer  6327 non-null   int64  \n",
      " 3   Product_Category  6327 non-null   int8   \n",
      " 4   Grade             6327 non-null   int64  \n",
      " 5   Demand            6327 non-null   int64  \n",
      " 6   Discount_avail    6327 non-null   float64\n",
      " 7   charges_1         6327 non-null   float64\n",
      " 8   charges_2 (%)     6327 non-null   float64\n",
      " 9   Minimum_price     6327 non-null   float64\n",
      " 10  Maximum_price     6327 non-null   float64\n",
      " 11  Selling_Price     6327 non-null   float64\n",
      " 12  year              6327 non-null   int64  \n",
      " 13  month             6327 non-null   int64  \n",
      " 14  quarter           6327 non-null   int64  \n",
      " 15  day of the week   6327 non-null   int64  \n",
      " 16  Dayofyear         6327 non-null   int64  \n",
      " 17  hour              6327 non-null   int64  \n",
      "dtypes: float64(7), int64(10), int8(1)\n",
      "memory usage: 895.9 KB\n"
     ]
    }
   ],
   "source": [
    "train.info()"
   ]
  },
  {
   "cell_type": "code",
   "execution_count": 58,
   "id": "25ffa524",
   "metadata": {},
   "outputs": [
    {
     "name": "stdout",
     "output_type": "stream",
     "text": [
      "<class 'pandas.core.frame.DataFrame'>\n",
      "RangeIndex: 3430 entries, 0 to 3429\n",
      "Data columns (total 20 columns):\n",
      " #   Column            Non-Null Count  Dtype         \n",
      "---  ------            --------------  -----         \n",
      " 0   Product_id        3430 non-null   object        \n",
      " 1   Stall_no          3430 non-null   float64       \n",
      " 2   instock_date      3430 non-null   datetime64[ns]\n",
      " 3   Market_Category   3430 non-null   int64         \n",
      " 4   Customer_name     3430 non-null   object        \n",
      " 5   Loyalty_customer  3430 non-null   int64         \n",
      " 6   Product_Category  3430 non-null   int8          \n",
      " 7   Grade             3430 non-null   int64         \n",
      " 8   Demand            3430 non-null   int64         \n",
      " 9   Discount_avail    3430 non-null   int64         \n",
      " 10  charges_1         3430 non-null   float64       \n",
      " 11  charges_2 (%)     3430 non-null   float64       \n",
      " 12  Minimum_price     3430 non-null   float64       \n",
      " 13  Maximum_price     3430 non-null   int64         \n",
      " 14  year              3430 non-null   int64         \n",
      " 15  month             3430 non-null   int64         \n",
      " 16  quarter           3430 non-null   int64         \n",
      " 17  day of the week   3430 non-null   int64         \n",
      " 18  Dayofyear         3430 non-null   int64         \n",
      " 19  hour              3430 non-null   int64         \n",
      "dtypes: datetime64[ns](1), float64(4), int64(12), int8(1), object(2)\n",
      "memory usage: 512.6+ KB\n"
     ]
    }
   ],
   "source": [
    "test.info()"
   ]
  },
  {
   "cell_type": "code",
   "execution_count": 59,
   "id": "919b1ab8",
   "metadata": {},
   "outputs": [],
   "source": [
    "df = train.copy()"
   ]
  },
  {
   "cell_type": "code",
   "execution_count": 60,
   "id": "e75e2198",
   "metadata": {},
   "outputs": [
    {
     "data": {
      "text/plain": [
       "Stall_no            0.011726\n",
       "Market_Category     0.138711\n",
       "Loyalty_customer    0.095660\n",
       "Product_Category    0.015041\n",
       "Grade               0.086450\n",
       "Demand             -0.000601\n",
       "Discount_avail     -0.511641\n",
       "charges_1           0.052374\n",
       "charges_2 (%)       0.008905\n",
       "Minimum_price       0.698369\n",
       "Maximum_price       0.750419\n",
       "Selling_Price       1.000000\n",
       "year                0.061454\n",
       "month              -0.026448\n",
       "quarter            -0.037979\n",
       "day of the week    -0.033868\n",
       "Dayofyear          -0.018124\n",
       "hour                0.030152\n",
       "Name: Selling_Price, dtype: float64"
      ]
     },
     "execution_count": 60,
     "metadata": {},
     "output_type": "execute_result"
    }
   ],
   "source": [
    "df.corr()['Selling_Price']"
   ]
  },
  {
   "cell_type": "code",
   "execution_count": 61,
   "id": "6c5161e7",
   "metadata": {},
   "outputs": [],
   "source": [
    "from sklearn.model_selection import train_test_split\n",
    "X = df.drop(['Selling_Price'],axis=1)\n",
    "y = df['Selling_Price']\n",
    "X_train, X_test, y_train, y_test = train_test_split(X, y, test_size=0.33, random_state=42)\n",
    "X_train,X_val,y_train,y_val =train_test_split(X_train,y_train,test_size=0.33,random_state=42)"
   ]
  },
  {
   "cell_type": "code",
   "execution_count": 62,
   "id": "73a7b518",
   "metadata": {},
   "outputs": [
    {
     "data": {
      "text/html": [
       "<style>#sk-container-id-5 {color: black;background-color: white;}#sk-container-id-5 pre{padding: 0;}#sk-container-id-5 div.sk-toggleable {background-color: white;}#sk-container-id-5 label.sk-toggleable__label {cursor: pointer;display: block;width: 100%;margin-bottom: 0;padding: 0.3em;box-sizing: border-box;text-align: center;}#sk-container-id-5 label.sk-toggleable__label-arrow:before {content: \"▸\";float: left;margin-right: 0.25em;color: #696969;}#sk-container-id-5 label.sk-toggleable__label-arrow:hover:before {color: black;}#sk-container-id-5 div.sk-estimator:hover label.sk-toggleable__label-arrow:before {color: black;}#sk-container-id-5 div.sk-toggleable__content {max-height: 0;max-width: 0;overflow: hidden;text-align: left;background-color: #f0f8ff;}#sk-container-id-5 div.sk-toggleable__content pre {margin: 0.2em;color: black;border-radius: 0.25em;background-color: #f0f8ff;}#sk-container-id-5 input.sk-toggleable__control:checked~div.sk-toggleable__content {max-height: 200px;max-width: 100%;overflow: auto;}#sk-container-id-5 input.sk-toggleable__control:checked~label.sk-toggleable__label-arrow:before {content: \"▾\";}#sk-container-id-5 div.sk-estimator input.sk-toggleable__control:checked~label.sk-toggleable__label {background-color: #d4ebff;}#sk-container-id-5 div.sk-label input.sk-toggleable__control:checked~label.sk-toggleable__label {background-color: #d4ebff;}#sk-container-id-5 input.sk-hidden--visually {border: 0;clip: rect(1px 1px 1px 1px);clip: rect(1px, 1px, 1px, 1px);height: 1px;margin: -1px;overflow: hidden;padding: 0;position: absolute;width: 1px;}#sk-container-id-5 div.sk-estimator {font-family: monospace;background-color: #f0f8ff;border: 1px dotted black;border-radius: 0.25em;box-sizing: border-box;margin-bottom: 0.5em;}#sk-container-id-5 div.sk-estimator:hover {background-color: #d4ebff;}#sk-container-id-5 div.sk-parallel-item::after {content: \"\";width: 100%;border-bottom: 1px solid gray;flex-grow: 1;}#sk-container-id-5 div.sk-label:hover label.sk-toggleable__label {background-color: #d4ebff;}#sk-container-id-5 div.sk-serial::before {content: \"\";position: absolute;border-left: 1px solid gray;box-sizing: border-box;top: 0;bottom: 0;left: 50%;z-index: 0;}#sk-container-id-5 div.sk-serial {display: flex;flex-direction: column;align-items: center;background-color: white;padding-right: 0.2em;padding-left: 0.2em;position: relative;}#sk-container-id-5 div.sk-item {position: relative;z-index: 1;}#sk-container-id-5 div.sk-parallel {display: flex;align-items: stretch;justify-content: center;background-color: white;position: relative;}#sk-container-id-5 div.sk-item::before, #sk-container-id-5 div.sk-parallel-item::before {content: \"\";position: absolute;border-left: 1px solid gray;box-sizing: border-box;top: 0;bottom: 0;left: 50%;z-index: -1;}#sk-container-id-5 div.sk-parallel-item {display: flex;flex-direction: column;z-index: 1;position: relative;background-color: white;}#sk-container-id-5 div.sk-parallel-item:first-child::after {align-self: flex-end;width: 50%;}#sk-container-id-5 div.sk-parallel-item:last-child::after {align-self: flex-start;width: 50%;}#sk-container-id-5 div.sk-parallel-item:only-child::after {width: 0;}#sk-container-id-5 div.sk-dashed-wrapped {border: 1px dashed gray;margin: 0 0.4em 0.5em 0.4em;box-sizing: border-box;padding-bottom: 0.4em;background-color: white;}#sk-container-id-5 div.sk-label label {font-family: monospace;font-weight: bold;display: inline-block;line-height: 1.2em;}#sk-container-id-5 div.sk-label-container {text-align: center;}#sk-container-id-5 div.sk-container {/* jupyter's `normalize.less` sets `[hidden] { display: none; }` but bootstrap.min.css set `[hidden] { display: none !important; }` so we also need the `!important` here to be able to override the default hidden behavior on the sphinx rendered scikit-learn.org. See: https://github.com/scikit-learn/scikit-learn/issues/21755 */display: inline-block !important;position: relative;}#sk-container-id-5 div.sk-text-repr-fallback {display: none;}</style><div id=\"sk-container-id-5\" class=\"sk-top-container\"><div class=\"sk-text-repr-fallback\"><pre>LinearRegression()</pre><b>In a Jupyter environment, please rerun this cell to show the HTML representation or trust the notebook. <br />On GitHub, the HTML representation is unable to render, please try loading this page with nbviewer.org.</b></div><div class=\"sk-container\" hidden><div class=\"sk-item\"><div class=\"sk-estimator sk-toggleable\"><input class=\"sk-toggleable__control sk-hidden--visually\" id=\"sk-estimator-id-5\" type=\"checkbox\" checked><label for=\"sk-estimator-id-5\" class=\"sk-toggleable__label sk-toggleable__label-arrow\">LinearRegression</label><div class=\"sk-toggleable__content\"><pre>LinearRegression()</pre></div></div></div></div></div>"
      ],
      "text/plain": [
       "LinearRegression()"
      ]
     },
     "execution_count": 62,
     "metadata": {},
     "output_type": "execute_result"
    }
   ],
   "source": [
    "from sklearn.linear_model import LinearRegression\n",
    "lm=LinearRegression()\n",
    "lm.fit(X_train,y_train)"
   ]
  },
  {
   "cell_type": "code",
   "execution_count": 63,
   "id": "56fe6975",
   "metadata": {},
   "outputs": [
    {
     "name": "stdout",
     "output_type": "stream",
     "text": [
      "Model_Test_Accuracy: 0.9022207982084307\n",
      "Model_Validation_Accuracy: 0.9056675673840813\n"
     ]
    }
   ],
   "source": [
    "from sklearn.metrics import r2_score,mean_squared_log_error\n",
    "\n",
    "y_test_predict = abs(lm.predict(X_test))\n",
    "print('Model_Test_Accuracy:',r2_score(y_test,y_test_predict))\n",
    "\n",
    "y_val_predict = abs(lm.predict(X_val))\n",
    "print('Model_Validation_Accuracy:',r2_score(y_val,y_val_predict))"
   ]
  },
  {
   "cell_type": "code",
   "execution_count": 64,
   "id": "b08bcea0",
   "metadata": {},
   "outputs": [
    {
     "data": {
      "text/html": [
       "<style>#sk-container-id-6 {color: black;background-color: white;}#sk-container-id-6 pre{padding: 0;}#sk-container-id-6 div.sk-toggleable {background-color: white;}#sk-container-id-6 label.sk-toggleable__label {cursor: pointer;display: block;width: 100%;margin-bottom: 0;padding: 0.3em;box-sizing: border-box;text-align: center;}#sk-container-id-6 label.sk-toggleable__label-arrow:before {content: \"▸\";float: left;margin-right: 0.25em;color: #696969;}#sk-container-id-6 label.sk-toggleable__label-arrow:hover:before {color: black;}#sk-container-id-6 div.sk-estimator:hover label.sk-toggleable__label-arrow:before {color: black;}#sk-container-id-6 div.sk-toggleable__content {max-height: 0;max-width: 0;overflow: hidden;text-align: left;background-color: #f0f8ff;}#sk-container-id-6 div.sk-toggleable__content pre {margin: 0.2em;color: black;border-radius: 0.25em;background-color: #f0f8ff;}#sk-container-id-6 input.sk-toggleable__control:checked~div.sk-toggleable__content {max-height: 200px;max-width: 100%;overflow: auto;}#sk-container-id-6 input.sk-toggleable__control:checked~label.sk-toggleable__label-arrow:before {content: \"▾\";}#sk-container-id-6 div.sk-estimator input.sk-toggleable__control:checked~label.sk-toggleable__label {background-color: #d4ebff;}#sk-container-id-6 div.sk-label input.sk-toggleable__control:checked~label.sk-toggleable__label {background-color: #d4ebff;}#sk-container-id-6 input.sk-hidden--visually {border: 0;clip: rect(1px 1px 1px 1px);clip: rect(1px, 1px, 1px, 1px);height: 1px;margin: -1px;overflow: hidden;padding: 0;position: absolute;width: 1px;}#sk-container-id-6 div.sk-estimator {font-family: monospace;background-color: #f0f8ff;border: 1px dotted black;border-radius: 0.25em;box-sizing: border-box;margin-bottom: 0.5em;}#sk-container-id-6 div.sk-estimator:hover {background-color: #d4ebff;}#sk-container-id-6 div.sk-parallel-item::after {content: \"\";width: 100%;border-bottom: 1px solid gray;flex-grow: 1;}#sk-container-id-6 div.sk-label:hover label.sk-toggleable__label {background-color: #d4ebff;}#sk-container-id-6 div.sk-serial::before {content: \"\";position: absolute;border-left: 1px solid gray;box-sizing: border-box;top: 0;bottom: 0;left: 50%;z-index: 0;}#sk-container-id-6 div.sk-serial {display: flex;flex-direction: column;align-items: center;background-color: white;padding-right: 0.2em;padding-left: 0.2em;position: relative;}#sk-container-id-6 div.sk-item {position: relative;z-index: 1;}#sk-container-id-6 div.sk-parallel {display: flex;align-items: stretch;justify-content: center;background-color: white;position: relative;}#sk-container-id-6 div.sk-item::before, #sk-container-id-6 div.sk-parallel-item::before {content: \"\";position: absolute;border-left: 1px solid gray;box-sizing: border-box;top: 0;bottom: 0;left: 50%;z-index: -1;}#sk-container-id-6 div.sk-parallel-item {display: flex;flex-direction: column;z-index: 1;position: relative;background-color: white;}#sk-container-id-6 div.sk-parallel-item:first-child::after {align-self: flex-end;width: 50%;}#sk-container-id-6 div.sk-parallel-item:last-child::after {align-self: flex-start;width: 50%;}#sk-container-id-6 div.sk-parallel-item:only-child::after {width: 0;}#sk-container-id-6 div.sk-dashed-wrapped {border: 1px dashed gray;margin: 0 0.4em 0.5em 0.4em;box-sizing: border-box;padding-bottom: 0.4em;background-color: white;}#sk-container-id-6 div.sk-label label {font-family: monospace;font-weight: bold;display: inline-block;line-height: 1.2em;}#sk-container-id-6 div.sk-label-container {text-align: center;}#sk-container-id-6 div.sk-container {/* jupyter's `normalize.less` sets `[hidden] { display: none; }` but bootstrap.min.css set `[hidden] { display: none !important; }` so we also need the `!important` here to be able to override the default hidden behavior on the sphinx rendered scikit-learn.org. See: https://github.com/scikit-learn/scikit-learn/issues/21755 */display: inline-block !important;position: relative;}#sk-container-id-6 div.sk-text-repr-fallback {display: none;}</style><div id=\"sk-container-id-6\" class=\"sk-top-container\"><div class=\"sk-text-repr-fallback\"><pre>KNeighborsRegressor(n_jobs=-1)</pre><b>In a Jupyter environment, please rerun this cell to show the HTML representation or trust the notebook. <br />On GitHub, the HTML representation is unable to render, please try loading this page with nbviewer.org.</b></div><div class=\"sk-container\" hidden><div class=\"sk-item\"><div class=\"sk-estimator sk-toggleable\"><input class=\"sk-toggleable__control sk-hidden--visually\" id=\"sk-estimator-id-6\" type=\"checkbox\" checked><label for=\"sk-estimator-id-6\" class=\"sk-toggleable__label sk-toggleable__label-arrow\">KNeighborsRegressor</label><div class=\"sk-toggleable__content\"><pre>KNeighborsRegressor(n_jobs=-1)</pre></div></div></div></div></div>"
      ],
      "text/plain": [
       "KNeighborsRegressor(n_jobs=-1)"
      ]
     },
     "execution_count": 64,
     "metadata": {},
     "output_type": "execute_result"
    }
   ],
   "source": [
    "from sklearn.neighbors import KNeighborsRegressor\n",
    "knn = KNeighborsRegressor(n_jobs=-1,)\n",
    "knn.fit(X_train,y_train)"
   ]
  },
  {
   "cell_type": "code",
   "execution_count": 65,
   "id": "93e7fa45",
   "metadata": {},
   "outputs": [
    {
     "name": "stdout",
     "output_type": "stream",
     "text": [
      "Model_Test_Accuracy: 0.5788666801962647\n",
      "Model_Validation_Accuracy: 0.5631878446494949\n"
     ]
    }
   ],
   "source": [
    "y_test_predict = knn.predict(X_test)\n",
    "print('Model_Test_Accuracy:',r2_score(y_test,y_test_predict))\n",
    "\n",
    "y_val_predict = knn.predict(X_val)\n",
    "print('Model_Validation_Accuracy:',r2_score(y_val,y_val_predict))"
   ]
  },
  {
   "cell_type": "code",
   "execution_count": 66,
   "id": "469e2df0",
   "metadata": {},
   "outputs": [
    {
     "data": {
      "text/html": [
       "<style>#sk-container-id-7 {color: black;background-color: white;}#sk-container-id-7 pre{padding: 0;}#sk-container-id-7 div.sk-toggleable {background-color: white;}#sk-container-id-7 label.sk-toggleable__label {cursor: pointer;display: block;width: 100%;margin-bottom: 0;padding: 0.3em;box-sizing: border-box;text-align: center;}#sk-container-id-7 label.sk-toggleable__label-arrow:before {content: \"▸\";float: left;margin-right: 0.25em;color: #696969;}#sk-container-id-7 label.sk-toggleable__label-arrow:hover:before {color: black;}#sk-container-id-7 div.sk-estimator:hover label.sk-toggleable__label-arrow:before {color: black;}#sk-container-id-7 div.sk-toggleable__content {max-height: 0;max-width: 0;overflow: hidden;text-align: left;background-color: #f0f8ff;}#sk-container-id-7 div.sk-toggleable__content pre {margin: 0.2em;color: black;border-radius: 0.25em;background-color: #f0f8ff;}#sk-container-id-7 input.sk-toggleable__control:checked~div.sk-toggleable__content {max-height: 200px;max-width: 100%;overflow: auto;}#sk-container-id-7 input.sk-toggleable__control:checked~label.sk-toggleable__label-arrow:before {content: \"▾\";}#sk-container-id-7 div.sk-estimator input.sk-toggleable__control:checked~label.sk-toggleable__label {background-color: #d4ebff;}#sk-container-id-7 div.sk-label input.sk-toggleable__control:checked~label.sk-toggleable__label {background-color: #d4ebff;}#sk-container-id-7 input.sk-hidden--visually {border: 0;clip: rect(1px 1px 1px 1px);clip: rect(1px, 1px, 1px, 1px);height: 1px;margin: -1px;overflow: hidden;padding: 0;position: absolute;width: 1px;}#sk-container-id-7 div.sk-estimator {font-family: monospace;background-color: #f0f8ff;border: 1px dotted black;border-radius: 0.25em;box-sizing: border-box;margin-bottom: 0.5em;}#sk-container-id-7 div.sk-estimator:hover {background-color: #d4ebff;}#sk-container-id-7 div.sk-parallel-item::after {content: \"\";width: 100%;border-bottom: 1px solid gray;flex-grow: 1;}#sk-container-id-7 div.sk-label:hover label.sk-toggleable__label {background-color: #d4ebff;}#sk-container-id-7 div.sk-serial::before {content: \"\";position: absolute;border-left: 1px solid gray;box-sizing: border-box;top: 0;bottom: 0;left: 50%;z-index: 0;}#sk-container-id-7 div.sk-serial {display: flex;flex-direction: column;align-items: center;background-color: white;padding-right: 0.2em;padding-left: 0.2em;position: relative;}#sk-container-id-7 div.sk-item {position: relative;z-index: 1;}#sk-container-id-7 div.sk-parallel {display: flex;align-items: stretch;justify-content: center;background-color: white;position: relative;}#sk-container-id-7 div.sk-item::before, #sk-container-id-7 div.sk-parallel-item::before {content: \"\";position: absolute;border-left: 1px solid gray;box-sizing: border-box;top: 0;bottom: 0;left: 50%;z-index: -1;}#sk-container-id-7 div.sk-parallel-item {display: flex;flex-direction: column;z-index: 1;position: relative;background-color: white;}#sk-container-id-7 div.sk-parallel-item:first-child::after {align-self: flex-end;width: 50%;}#sk-container-id-7 div.sk-parallel-item:last-child::after {align-self: flex-start;width: 50%;}#sk-container-id-7 div.sk-parallel-item:only-child::after {width: 0;}#sk-container-id-7 div.sk-dashed-wrapped {border: 1px dashed gray;margin: 0 0.4em 0.5em 0.4em;box-sizing: border-box;padding-bottom: 0.4em;background-color: white;}#sk-container-id-7 div.sk-label label {font-family: monospace;font-weight: bold;display: inline-block;line-height: 1.2em;}#sk-container-id-7 div.sk-label-container {text-align: center;}#sk-container-id-7 div.sk-container {/* jupyter's `normalize.less` sets `[hidden] { display: none; }` but bootstrap.min.css set `[hidden] { display: none !important; }` so we also need the `!important` here to be able to override the default hidden behavior on the sphinx rendered scikit-learn.org. See: https://github.com/scikit-learn/scikit-learn/issues/21755 */display: inline-block !important;position: relative;}#sk-container-id-7 div.sk-text-repr-fallback {display: none;}</style><div id=\"sk-container-id-7\" class=\"sk-top-container\"><div class=\"sk-text-repr-fallback\"><pre>DecisionTreeRegressor(random_state=0)</pre><b>In a Jupyter environment, please rerun this cell to show the HTML representation or trust the notebook. <br />On GitHub, the HTML representation is unable to render, please try loading this page with nbviewer.org.</b></div><div class=\"sk-container\" hidden><div class=\"sk-item\"><div class=\"sk-estimator sk-toggleable\"><input class=\"sk-toggleable__control sk-hidden--visually\" id=\"sk-estimator-id-7\" type=\"checkbox\" checked><label for=\"sk-estimator-id-7\" class=\"sk-toggleable__label sk-toggleable__label-arrow\">DecisionTreeRegressor</label><div class=\"sk-toggleable__content\"><pre>DecisionTreeRegressor(random_state=0)</pre></div></div></div></div></div>"
      ],
      "text/plain": [
       "DecisionTreeRegressor(random_state=0)"
      ]
     },
     "execution_count": 66,
     "metadata": {},
     "output_type": "execute_result"
    }
   ],
   "source": [
    "from sklearn.tree import DecisionTreeRegressor\n",
    "dt = DecisionTreeRegressor(random_state=0)\n",
    "dt.fit(X_train,y_train)"
   ]
  },
  {
   "cell_type": "code",
   "execution_count": 67,
   "id": "78348a1a",
   "metadata": {},
   "outputs": [
    {
     "name": "stdout",
     "output_type": "stream",
     "text": [
      "Model_Test_Accuracy: 0.9359638887482373\n",
      "Model_Validation_Accuracy: 0.9640958135981115\n"
     ]
    }
   ],
   "source": [
    "y_test_predict = dt.predict(X_test)\n",
    "print('Model_Test_Accuracy:',r2_score(y_test,y_test_predict))\n",
    "\n",
    "y_val_predict = dt.predict(X_val)\n",
    "print('Model_Validation_Accuracy:',r2_score(y_val,y_val_predict))"
   ]
  },
  {
   "cell_type": "code",
   "execution_count": 68,
   "id": "ba930e4b",
   "metadata": {},
   "outputs": [
    {
     "data": {
      "text/html": [
       "<style>#sk-container-id-8 {color: black;background-color: white;}#sk-container-id-8 pre{padding: 0;}#sk-container-id-8 div.sk-toggleable {background-color: white;}#sk-container-id-8 label.sk-toggleable__label {cursor: pointer;display: block;width: 100%;margin-bottom: 0;padding: 0.3em;box-sizing: border-box;text-align: center;}#sk-container-id-8 label.sk-toggleable__label-arrow:before {content: \"▸\";float: left;margin-right: 0.25em;color: #696969;}#sk-container-id-8 label.sk-toggleable__label-arrow:hover:before {color: black;}#sk-container-id-8 div.sk-estimator:hover label.sk-toggleable__label-arrow:before {color: black;}#sk-container-id-8 div.sk-toggleable__content {max-height: 0;max-width: 0;overflow: hidden;text-align: left;background-color: #f0f8ff;}#sk-container-id-8 div.sk-toggleable__content pre {margin: 0.2em;color: black;border-radius: 0.25em;background-color: #f0f8ff;}#sk-container-id-8 input.sk-toggleable__control:checked~div.sk-toggleable__content {max-height: 200px;max-width: 100%;overflow: auto;}#sk-container-id-8 input.sk-toggleable__control:checked~label.sk-toggleable__label-arrow:before {content: \"▾\";}#sk-container-id-8 div.sk-estimator input.sk-toggleable__control:checked~label.sk-toggleable__label {background-color: #d4ebff;}#sk-container-id-8 div.sk-label input.sk-toggleable__control:checked~label.sk-toggleable__label {background-color: #d4ebff;}#sk-container-id-8 input.sk-hidden--visually {border: 0;clip: rect(1px 1px 1px 1px);clip: rect(1px, 1px, 1px, 1px);height: 1px;margin: -1px;overflow: hidden;padding: 0;position: absolute;width: 1px;}#sk-container-id-8 div.sk-estimator {font-family: monospace;background-color: #f0f8ff;border: 1px dotted black;border-radius: 0.25em;box-sizing: border-box;margin-bottom: 0.5em;}#sk-container-id-8 div.sk-estimator:hover {background-color: #d4ebff;}#sk-container-id-8 div.sk-parallel-item::after {content: \"\";width: 100%;border-bottom: 1px solid gray;flex-grow: 1;}#sk-container-id-8 div.sk-label:hover label.sk-toggleable__label {background-color: #d4ebff;}#sk-container-id-8 div.sk-serial::before {content: \"\";position: absolute;border-left: 1px solid gray;box-sizing: border-box;top: 0;bottom: 0;left: 50%;z-index: 0;}#sk-container-id-8 div.sk-serial {display: flex;flex-direction: column;align-items: center;background-color: white;padding-right: 0.2em;padding-left: 0.2em;position: relative;}#sk-container-id-8 div.sk-item {position: relative;z-index: 1;}#sk-container-id-8 div.sk-parallel {display: flex;align-items: stretch;justify-content: center;background-color: white;position: relative;}#sk-container-id-8 div.sk-item::before, #sk-container-id-8 div.sk-parallel-item::before {content: \"\";position: absolute;border-left: 1px solid gray;box-sizing: border-box;top: 0;bottom: 0;left: 50%;z-index: -1;}#sk-container-id-8 div.sk-parallel-item {display: flex;flex-direction: column;z-index: 1;position: relative;background-color: white;}#sk-container-id-8 div.sk-parallel-item:first-child::after {align-self: flex-end;width: 50%;}#sk-container-id-8 div.sk-parallel-item:last-child::after {align-self: flex-start;width: 50%;}#sk-container-id-8 div.sk-parallel-item:only-child::after {width: 0;}#sk-container-id-8 div.sk-dashed-wrapped {border: 1px dashed gray;margin: 0 0.4em 0.5em 0.4em;box-sizing: border-box;padding-bottom: 0.4em;background-color: white;}#sk-container-id-8 div.sk-label label {font-family: monospace;font-weight: bold;display: inline-block;line-height: 1.2em;}#sk-container-id-8 div.sk-label-container {text-align: center;}#sk-container-id-8 div.sk-container {/* jupyter's `normalize.less` sets `[hidden] { display: none; }` but bootstrap.min.css set `[hidden] { display: none !important; }` so we also need the `!important` here to be able to override the default hidden behavior on the sphinx rendered scikit-learn.org. See: https://github.com/scikit-learn/scikit-learn/issues/21755 */display: inline-block !important;position: relative;}#sk-container-id-8 div.sk-text-repr-fallback {display: none;}</style><div id=\"sk-container-id-8\" class=\"sk-top-container\"><div class=\"sk-text-repr-fallback\"><pre>RandomForestRegressor(n_estimators=200, n_jobs=-1, random_state=0)</pre><b>In a Jupyter environment, please rerun this cell to show the HTML representation or trust the notebook. <br />On GitHub, the HTML representation is unable to render, please try loading this page with nbviewer.org.</b></div><div class=\"sk-container\" hidden><div class=\"sk-item\"><div class=\"sk-estimator sk-toggleable\"><input class=\"sk-toggleable__control sk-hidden--visually\" id=\"sk-estimator-id-8\" type=\"checkbox\" checked><label for=\"sk-estimator-id-8\" class=\"sk-toggleable__label sk-toggleable__label-arrow\">RandomForestRegressor</label><div class=\"sk-toggleable__content\"><pre>RandomForestRegressor(n_estimators=200, n_jobs=-1, random_state=0)</pre></div></div></div></div></div>"
      ],
      "text/plain": [
       "RandomForestRegressor(n_estimators=200, n_jobs=-1, random_state=0)"
      ]
     },
     "execution_count": 68,
     "metadata": {},
     "output_type": "execute_result"
    }
   ],
   "source": [
    "from sklearn.ensemble import RandomForestRegressor\n",
    "\n",
    "rfr = RandomForestRegressor(random_state  = 0,n_estimators= 200,n_jobs=-1)\n",
    "rfr.fit(X_train,y_train)"
   ]
  },
  {
   "cell_type": "code",
   "execution_count": 69,
   "id": "f0a04286",
   "metadata": {},
   "outputs": [
    {
     "name": "stdout",
     "output_type": "stream",
     "text": [
      "Model_Test_Accuracy: 0.9610792975874067\n",
      "Model_Validation_Accuracy: 0.9781491972491148\n"
     ]
    }
   ],
   "source": [
    "y_test_predict = rfr.predict(X_test)\n",
    "print('Model_Test_Accuracy:',r2_score(y_test,y_test_predict))\n",
    "\n",
    "y_val_predict = rfr.predict(X_val)\n",
    "print('Model_Validation_Accuracy:',r2_score(y_val,y_val_predict))"
   ]
  },
  {
   "cell_type": "code",
   "execution_count": 70,
   "id": "df1d8732",
   "metadata": {},
   "outputs": [],
   "source": [
    "p_id = test[\"Product_id\"]\n",
    "test = test.drop([\"Product_id\",\"instock_date\",\"Customer_name\"],axis =1)"
   ]
  },
  {
   "cell_type": "code",
   "execution_count": 73,
   "id": "72ca4163",
   "metadata": {},
   "outputs": [],
   "source": [
    "yf = rfr.predict(test)"
   ]
  },
  {
   "cell_type": "code",
   "execution_count": 74,
   "id": "d28e7be9",
   "metadata": {},
   "outputs": [],
   "source": [
    "final = pd.DataFrame((zip(p_id,yf)),columns=['Product_id','Selling_Price'])"
   ]
  },
  {
   "cell_type": "code",
   "execution_count": 76,
   "id": "10bad702",
   "metadata": {},
   "outputs": [],
   "source": [
    "final.to_csv('subf11.csv',index= False)"
   ]
  }
 ],
 "metadata": {
  "kernelspec": {
   "display_name": "Python 3 (ipykernel)",
   "language": "python",
   "name": "python3"
  },
  "language_info": {
   "codemirror_mode": {
    "name": "ipython",
    "version": 3
   },
   "file_extension": ".py",
   "mimetype": "text/x-python",
   "name": "python",
   "nbconvert_exporter": "python",
   "pygments_lexer": "ipython3",
   "version": "3.10.4"
  }
 },
 "nbformat": 4,
 "nbformat_minor": 5
}
